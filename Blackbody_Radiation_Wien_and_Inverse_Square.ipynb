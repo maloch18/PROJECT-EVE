{
  "nbformat": 4,
  "nbformat_minor": 0,
  "metadata": {
    "colab": {
      "name": "Blackbody Radiation - Wien and Inverse Square.ipynb",
      "provenance": [],
      "collapsed_sections": []
    },
    "kernelspec": {
      "name": "python3",
      "display_name": "Python 3"
    },
    "language_info": {
      "name": "python"
    }
  },
  "cells": [
    {
      "cell_type": "markdown",
      "metadata": {
        "id": "mGNefC1DKqRH"
      },
      "source": [
        "# Install and import libraries"
      ]
    },
    {
      "cell_type": "code",
      "metadata": {
        "id": "puuMDrO3vSQq",
        "colab": {
          "base_uri": "https://localhost:8080/"
        },
        "outputId": "5bd69dd0-8e95-4510-f77d-32f76f2604cd"
      },
      "source": [
        "!pip install whit-phys-util"
      ],
      "execution_count": 1,
      "outputs": [
        {
          "output_type": "stream",
          "text": [
            "Collecting whit-phys-util\n",
            "  Downloading https://files.pythonhosted.org/packages/bc/96/45e054df5ed68633c2f401969d81f542d24c2545432eeeaddf42b153b7ad/whit_phys_util-0.2.4-py3-none-any.whl\n",
            "Collecting pydantic>=1.7.3\n",
            "\u001b[?25l  Downloading https://files.pythonhosted.org/packages/2b/a3/0ffdb6c63f45f10d19b8e8b32670b22ed089cafb29732f6bf8ce518821fb/pydantic-1.8.1-cp37-cp37m-manylinux2014_x86_64.whl (10.1MB)\n",
            "\u001b[K     |████████████████████████████████| 10.1MB 481kB/s \n",
            "\u001b[?25hCollecting python-dotenv>=0.10.4\n",
            "  Downloading https://files.pythonhosted.org/packages/26/1f/ae3d06ec877df31f49448d24eee7198549edae2af00da60c85dad93e343f/python_dotenv-0.17.1-py2.py3-none-any.whl\n",
            "Requirement already satisfied: typing-extensions>=3.7.4.3 in /usr/local/lib/python3.7/dist-packages (from pydantic>=1.7.3->whit-phys-util) (3.7.4.3)\n",
            "Installing collected packages: pydantic, python-dotenv, whit-phys-util\n",
            "Successfully installed pydantic-1.8.1 python-dotenv-0.17.1 whit-phys-util-0.2.4\n"
          ],
          "name": "stdout"
        }
      ]
    },
    {
      "cell_type": "code",
      "metadata": {
        "id": "UIJYsJTQKu5G"
      },
      "source": [
        "import numpy as np\n",
        "from scipy.optimize import curve_fit\n",
        "from scipy.interpolate import interp1d\n",
        "import pandas as pd\n",
        "import matplotlib.pyplot as plt\n",
        "import whit_phys_util as buc"
      ],
      "execution_count": 7,
      "outputs": []
    },
    {
      "cell_type": "code",
      "metadata": {
        "colab": {
          "base_uri": "https://localhost:8080/"
        },
        "id": "J4tSmM5FTY9a",
        "outputId": "f8a5354a-db0b-4d5e-8b2c-d03fe78c772e"
      },
      "source": [
        "repo = buc.local_repository(\"https://github.com/WhitworthPhysics/blackbody-radiation-wiens-law-and-inverse-square-law-maloch18.git\")"
      ],
      "execution_count": 3,
      "outputs": [
        {
          "output_type": "stream",
          "text": [
            "Cloning repository from GitHub.\n"
          ],
          "name": "stdout"
        }
      ]
    },
    {
      "cell_type": "markdown",
      "metadata": {
        "id": "kcGjN1owPdf1"
      },
      "source": [
        "# Temperature dependence of the blackbody spectrum"
      ]
    },
    {
      "cell_type": "markdown",
      "metadata": {
        "id": "0PSk86aCPXJl"
      },
      "source": [
        "## Equipment and materials\n",
        "| Description | Manufacturer | Model | ID or SN |\n",
        "| ----------- | ------------ | ----- | -------- |\n",
        "| radiation sensor | PASCO | TD-8553 | 001369 |\n",
        "| Stefan-Boltzmann lamp | PASCO | TD-8555 | NAS 1464-062-06 |\n",
        "| Digital multimeters (2) | Fluke | 117 | 49640101SV, 49640102SV |\n",
        "| power supply (max. 13 V DC, min. 2 A) | Cenco | 79550 | P-176 |\n",
        "| spectrometer | Ocean Optics | USB4000 | USB4F07107 |"
      ]
    },
    {
      "cell_type": "code",
      "metadata": {
        "id": "jM-Fxw_WPjiW"
      },
      "source": [
        "R_room = 2.5 # ohms\n",
        "T_room = 273.15 + 22.0 # K\n",
        "a = 4.5e-3\n",
        "R_ref = R_room + a*R_room*(300-T_room)"
      ],
      "execution_count": 4,
      "outputs": []
    },
    {
      "cell_type": "code",
      "metadata": {
        "id": "AxlQbCAUU_tJ"
      },
      "source": [
        "df_lamp_calib = pd.read_csv('lamp_calibration.csv')\n",
        "convert_Rratio_to_T = interp1d(df_lamp_calib['R Ratio'], df_lamp_calib['Temperature (K)'], kind='cubic')"
      ],
      "execution_count": 8,
      "outputs": []
    },
    {
      "cell_type": "code",
      "metadata": {
        "colab": {
          "base_uri": "https://localhost:8080/",
          "height": 171
        },
        "id": "kKUVMmfMVHah",
        "outputId": "c96538c8-128f-4253-b56d-57ef50ddf545"
      },
      "source": [
        "df_wien = pd.read_table('Wiens_law_data.tsv')\n",
        "df_wien['R (ohms)'] = df_wien['Voltage (V)']/df_wien['Current (A)']\n",
        "df_wien['R ratio'] = df_wien['R (ohms)']/R_ref\n",
        "df_wien['Temperature (K)'] = convert_Rratio_to_T(df_wien['R ratio'])\n",
        "df_wien['1/T (K^-1)'] = 1/df_wien['Temperature (K)']\n",
        "df_wien['Peak wavelength (m)'] = df_wien['Peak wavelength (nm)'] * 10**(-9)\n",
        "df_wien"
      ],
      "execution_count": 16,
      "outputs": [
        {
          "output_type": "execute_result",
          "data": {
            "text/html": [
              "<div>\n",
              "<style scoped>\n",
              "    .dataframe tbody tr th:only-of-type {\n",
              "        vertical-align: middle;\n",
              "    }\n",
              "\n",
              "    .dataframe tbody tr th {\n",
              "        vertical-align: top;\n",
              "    }\n",
              "\n",
              "    .dataframe thead th {\n",
              "        text-align: right;\n",
              "    }\n",
              "</style>\n",
              "<table border=\"1\" class=\"dataframe\">\n",
              "  <thead>\n",
              "    <tr style=\"text-align: right;\">\n",
              "      <th></th>\n",
              "      <th>Voltage (V)</th>\n",
              "      <th>Current (A)</th>\n",
              "      <th>Peak wavelength (nm)</th>\n",
              "      <th>R (ohms)</th>\n",
              "      <th>R ratio</th>\n",
              "      <th>Temperature (K)</th>\n",
              "      <th>1/T (K^-1)</th>\n",
              "      <th>Peak wavelength (m)</th>\n",
              "    </tr>\n",
              "  </thead>\n",
              "  <tbody>\n",
              "    <tr>\n",
              "      <th>0</th>\n",
              "      <td>5.764</td>\n",
              "      <td>2.093</td>\n",
              "      <td>680</td>\n",
              "      <td>2.753942</td>\n",
              "      <td>1.078048</td>\n",
              "      <td>318.146740</td>\n",
              "      <td>0.003143</td>\n",
              "      <td>6.800000e-07</td>\n",
              "    </tr>\n",
              "    <tr>\n",
              "      <th>1</th>\n",
              "      <td>7.810</td>\n",
              "      <td>2.456</td>\n",
              "      <td>645</td>\n",
              "      <td>3.179967</td>\n",
              "      <td>1.244819</td>\n",
              "      <td>356.987363</td>\n",
              "      <td>0.002801</td>\n",
              "      <td>6.450000e-07</td>\n",
              "    </tr>\n",
              "    <tr>\n",
              "      <th>2</th>\n",
              "      <td>9.660</td>\n",
              "      <td>2.757</td>\n",
              "      <td>630</td>\n",
              "      <td>3.503808</td>\n",
              "      <td>1.371588</td>\n",
              "      <td>386.462800</td>\n",
              "      <td>0.002588</td>\n",
              "      <td>6.300000e-07</td>\n",
              "    </tr>\n",
              "    <tr>\n",
              "      <th>3</th>\n",
              "      <td>11.380</td>\n",
              "      <td>3.016</td>\n",
              "      <td>615</td>\n",
              "      <td>3.773210</td>\n",
              "      <td>1.477047</td>\n",
              "      <td>410.874159</td>\n",
              "      <td>0.002434</td>\n",
              "      <td>6.150000e-07</td>\n",
              "    </tr>\n",
              "  </tbody>\n",
              "</table>\n",
              "</div>"
            ],
            "text/plain": [
              "   Voltage (V)  Current (A)  ...  1/T (K^-1)  Peak wavelength (m)\n",
              "0        5.764        2.093  ...    0.003143         6.800000e-07\n",
              "1        7.810        2.456  ...    0.002801         6.450000e-07\n",
              "2        9.660        2.757  ...    0.002588         6.300000e-07\n",
              "3       11.380        3.016  ...    0.002434         6.150000e-07\n",
              "\n",
              "[4 rows x 8 columns]"
            ]
          },
          "metadata": {
            "tags": []
          },
          "execution_count": 16
        }
      ]
    },
    {
      "cell_type": "code",
      "metadata": {
        "colab": {
          "base_uri": "https://localhost:8080/",
          "height": 110
        },
        "id": "oSKvuvjBVexk",
        "outputId": "ee8db4a2-9b94-465c-8d35-2d52d970cd74"
      },
      "source": [
        "fitTable_wien, fitFunc_wien = buc.prettyPolyFit(df_wien['1/T (K^-1)'], df_wien['Peak wavelength (m)'])\n",
        "fitTable_wien"
      ],
      "execution_count": 17,
      "outputs": [
        {
          "output_type": "execute_result",
          "data": {
            "text/html": [
              "<div>\n",
              "<style scoped>\n",
              "    .dataframe tbody tr th:only-of-type {\n",
              "        vertical-align: middle;\n",
              "    }\n",
              "\n",
              "    .dataframe tbody tr th {\n",
              "        vertical-align: top;\n",
              "    }\n",
              "\n",
              "    .dataframe thead th {\n",
              "        text-align: right;\n",
              "    }\n",
              "</style>\n",
              "<table border=\"1\" class=\"dataframe\">\n",
              "  <thead>\n",
              "    <tr style=\"text-align: right;\">\n",
              "      <th></th>\n",
              "      <th>slope</th>\n",
              "      <th>intercept</th>\n",
              "    </tr>\n",
              "  </thead>\n",
              "  <tbody>\n",
              "    <tr>\n",
              "      <th>value</th>\n",
              "      <td>0.000090</td>\n",
              "      <td>3.947767e-07</td>\n",
              "    </tr>\n",
              "    <tr>\n",
              "      <th>uncertainty</th>\n",
              "      <td>0.000009</td>\n",
              "      <td>2.525560e-08</td>\n",
              "    </tr>\n",
              "  </tbody>\n",
              "</table>\n",
              "</div>"
            ],
            "text/plain": [
              "                slope     intercept\n",
              "value        0.000090  3.947767e-07\n",
              "uncertainty  0.000009  2.525560e-08"
            ]
          },
          "metadata": {
            "tags": []
          },
          "execution_count": 17
        }
      ]
    },
    {
      "cell_type": "code",
      "metadata": {
        "colab": {
          "base_uri": "https://localhost:8080/",
          "height": 295
        },
        "id": "5cbIIBbBV_Fk",
        "outputId": "d90f12d0-d8d6-4de3-b84e-e64bdb29a96e"
      },
      "source": [
        "fig_wien, ax_wien = plt.subplots()\n",
        "ax_wien.plot(df_wien['1/T (K^-1)'], df_wien['Peak wavelength (m)'], '.')\n",
        "ax_wien.plot(df_wien['1/T (K^-1)'], fitFunc_wien(df_wien['1/T (K^-1)']))\n",
        "ax_wien.set_xlabel('$1 \\ / \\ T \\ (\\mathrm{K}^{-1})$')\n",
        "ax_wien.set_ylabel('$\\lambda_{\\mathrm{peak}}$ (m)');"
      ],
      "execution_count": 18,
      "outputs": [
        {
          "output_type": "display_data",
          "data": {
            "image/png": "[encoded data removed]",
            "text/plain": [
              "<Figure size 432x288 with 1 Axes>"
            ]
          },
          "metadata": {
            "tags": [],
            "needs_background": "light"
          }
        }
      ]
    },
    {
      "cell_type": "code",
      "metadata": {
        "colab": {
          "base_uri": "https://localhost:8080/"
        },
        "id": "1fWAFIw3We-q",
        "outputId": "03b27c86-f304-4e1a-d8a6-4ddcb2a97ccc"
      },
      "source": [
        "b = 2.898e-3\n",
        "slope_wien = fitTable_wien.iat[0, 0]\n",
        "slope_unc_wien = fitTable_wien.iat[1, 0]\n",
        "error_wien = 100 * abs((slope_wien - b) / b)\n",
        "print(\"The slope of the wavelength at the emission peak vs. the inverse of the temperature\\nwas determined to be ({:.6f} +/- {:.6f}) m*K with an error of {:.1f}% from the reference value.\" .format(slope_wien, slope_unc_wien, error_wien))"
      ],
      "execution_count": 21,
      "outputs": [
        {
          "output_type": "stream",
          "text": [
            "The slope of the wavelength at the emission peak vs. the inverse of the temperature\n",
            "was determined to be (0.000090 +/- 0.000009) m*K with an error of 96.9% from the reference value.\n"
          ],
          "name": "stdout"
        }
      ]
    },
    {
      "cell_type": "markdown",
      "metadata": {
        "id": "zJtggINxelVW"
      },
      "source": [
        "Although my data verified the linear relationship of $\\lambda_{\\mathrm{peak}}$ vs. $\\frac{1}{T}$, the slope did not agree with the accepted value."
      ]
    },
    {
      "cell_type": "markdown",
      "metadata": {
        "id": "RK1-pgHVSclD"
      },
      "source": [
        "# Distance dependence of intensity"
      ]
    },
    {
      "cell_type": "markdown",
      "metadata": {
        "id": "K79TuAN9SfaP"
      },
      "source": [
        "## Equipment and materials\n",
        "| Description | Manufacturer | Model | ID or SN |\n",
        "| ----------- | ------------ | ----- | -------- |\n",
        "| radiation sensor | PASCO | TD-8553 | 001369 |\n",
        "| Stefan-Boltzmann lamp | PASCO | TD-8555 | NAS 1464-062-06 |\n",
        "| Digital multimeters (2) | Fluke | 117 | 49640101SV, 49640102SV |\n",
        "| power supply (max. 13 V DC, min. 2 A) | Cenco | 79550 | P-176 |\n",
        "| photodiode detector | Thorlabs | PDA36A | N/A |\n",
        "| long-pass filter | Thorlabs | FGL610 | N/A |\n",
        "| meter stick | N/A | N/A | N/A |"
      ]
    },
    {
      "cell_type": "code",
      "metadata": {
        "id": "q43B_mmiYK9N"
      },
      "source": [
        "df_dist = pd.read_table('inverse_square_data.tsv')"
      ],
      "execution_count": null,
      "outputs": []
    },
    {
      "cell_type": "code",
      "metadata": {
        "id": "HdCTS4EjYMEh"
      },
      "source": [
        "def I(x, x0, n, a):\n",
        "  return a / (x - x0)**n"
      ],
      "execution_count": null,
      "outputs": []
    },
    {
      "cell_type": "code",
      "metadata": {
        "id": "ESsQ1Eu8Se6u"
      },
      "source": [
        "df_dist = pd.read_table('inverse_square_data.tsv')\n",
        "[param, cov] = curve_fit(I, df_dist['x (m)'], df_dist['I (W/m^2)'])\n",
        "x0 = param[0]\n",
        "n = param[1]\n",
        "a = param[2]\n",
        "print(\"The values of n and x0 were determined to be {:.1f} and {:.2e} m, respectively.\" . format(n, x0))"
      ],
      "execution_count": null,
      "outputs": []
    },
    {
      "cell_type": "code",
      "metadata": {
        "id": "7IYi89FzY-AF"
      },
      "source": [
        "fig_dist, ax_dist = plt.subplots()\n",
        "ax_dist.plot(df_dist['x (m)'], df_dist['I (W/m^2)'], '.')\n",
        "ax_dist.plot(df_dist['x (m)'], I(df_dist['x (m)'], x0, n, a))\n",
        "ax_dist.set_xlabel('$x$ (m)')\n",
        "ax_dist.set_ylabel('$I (\\mathrm{W} / \\ / \\mathrm{m}^2$');"
      ],
      "execution_count": null,
      "outputs": []
    }
  ]
}