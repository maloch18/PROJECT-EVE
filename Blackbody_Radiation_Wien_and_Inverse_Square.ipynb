{
  "nbformat": 4,
  "nbformat_minor": 0,
  "metadata": {
    "colab": {
      "name": "Blackbody Radiation - Wien and Inverse Square.ipynb",
      "provenance": [],
      "collapsed_sections": []
    },
    "kernelspec": {
      "name": "python3",
      "display_name": "Python 3"
    },
    "language_info": {
      "name": "python"
    }
  },
  "cells": [
    {
      "cell_type": "markdown",
      "metadata": {
        "id": "mGNefC1DKqRH"
      },
      "source": [
        "# Install and import libraries"
      ]
    },
    {
      "cell_type": "code",
      "metadata": {
        "id": "puuMDrO3vSQq"
      },
      "source": [
        "!pip install whit-phys-util"
      ],
      "execution_count": null,
      "outputs": []
    },
    {
      "cell_type": "code",
      "metadata": {
        "id": "UIJYsJTQKu5G"
      },
      "source": [
        "import numpy as np\n",
        "from scipy.optimize import curve_fit\n",
        "import pandas as pd\n",
        "import matplotlib.pyplot as plt\n",
        "import whit_phys_util as buc"
      ],
      "execution_count": null,
      "outputs": []
    },
    {
      "cell_type": "code",
      "metadata": {
        "id": "J4tSmM5FTY9a"
      },
      "source": [
        "repo = buc.local_repository(\"https://github.com/WhitworthPhysics/blackbody-radiation-wiens-law-and-inverse-square-law-maloch18.git\")"
      ],
      "execution_count": null,
      "outputs": []
    },
    {
      "cell_type": "markdown",
      "metadata": {
        "id": "kcGjN1owPdf1"
      },
      "source": [
        "# Temperature dependence of the blackbody spectrum"
      ]
    },
    {
      "cell_type": "markdown",
      "metadata": {
        "id": "0PSk86aCPXJl"
      },
      "source": [
        "## Equipment and materials\n",
        "| Description | Manufacturer | Model | ID or SN |\n",
        "| ----------- | ------------ | ----- | -------- |\n",
        "| radiation sensor | PASCO | TD-8553 | 001369 |\n",
        "| Stefan-Boltzmann lamp | PASCO | TD-8555 | NAS 1464-062-06 |\n",
        "| Digital multimeters (2) | Fluke | 117 | 49640101SV, 49640102SV |\n",
        "| power supply (max. 13 V DC, min. 2 A) | Cenco | 79550 | P-176 |\n",
        "| spectrometer | Ocean Optics | USB4000 | USB4F07107 |"
      ]
    },
    {
      "cell_type": "code",
      "metadata": {
        "id": "jM-Fxw_WPjiW"
      },
      "source": [
        "R_room = 2.5 # ohms\n",
        "T_room = 273.15 + 22.0 # K\n",
        "a = 4.5e-3\n",
        "R_ref = R_room + a*R_room*(300-T_room)"
      ],
      "execution_count": null,
      "outputs": []
    },
    {
      "cell_type": "code",
      "metadata": {
        "id": "AxlQbCAUU_tJ"
      },
      "source": [
        "df_lamp_calib = pd.read_csv('lamp_calibration.csv')\n",
        "convert_Rratio_to_T = interp1d(df_lamp_calib['R Ratio'], df_lamp_calib['Temperature (K)'], kind='cubic')"
      ],
      "execution_count": null,
      "outputs": []
    },
    {
      "cell_type": "code",
      "metadata": {
        "id": "kKUVMmfMVHah"
      },
      "source": [
        "df_wien = pd.read_table('Wiens_law_data.tsv')\n",
        "df_wien['log (RS Voltage)'] = np.log(df_wien['Radiation Sensor (mV)'])\n",
        "df_wien['R (ohms)'] = df_wien['PS Voltage (V)']/df_wien['Current (A)']\n",
        "df_wien['R ratio'] = df_wien['R (ohms)']/R_ref\n",
        "df_wien['Temperature (K)'] = convert_Rratio_to_T(df_stefan['R ratio'])\n",
        "df_wien"
      ],
      "execution_count": null,
      "outputs": []
    },
    {
      "cell_type": "code",
      "metadata": {
        "id": "oSKvuvjBVexk"
      },
      "source": [
        "fitTable_wien, fitFunc_wien = buc.prettyPolyFit(1/df_wien['Temperature (K)'], df_wien['Peak wavelength (m)'])\n",
        "fitTable_wien"
      ],
      "execution_count": null,
      "outputs": []
    },
    {
      "cell_type": "code",
      "metadata": {
        "id": "5cbIIBbBV_Fk"
      },
      "source": [
        "fig_wien, ax_wien = plt.subplots()\n",
        "ax_wien.plot(1/df_wien['Temperature (K)'], df_wien['Peak wavelength (m)'], '.')\n",
        "ax_wien.plot(1/df_wien['Temperature (K)'], fitFunc_wien(df_wien['Temperature (K)']))\n",
        "ax_wien.set_xlabel('$1 \\ / \\ T \\ (\\mathrm{K}^{-1})$')\n",
        "ax_wien.set_ylabel('$\\lambda_{\\mathrm{peak}}$ (m)');"
      ],
      "execution_count": null,
      "outputs": []
    },
    {
      "cell_type": "code",
      "metadata": {
        "id": "1fWAFIw3We-q"
      },
      "source": [
        "b = 2.898e-3\n",
        "slope_wien = fitTable_wien.iat[0, 0]\n",
        "slope_unc_wien = fitTable_wien.iat[1, 0]\n",
        "error_wien = 100 * abs((slope_wien - b) / b)\n",
        "print(\"The slope of the wavelength at the emission peak vs. the inverse of the temperature\\nwas determined to be ({:.2e} +/- {:.2e}) m*K with an error of {:.1f}%.\" .format(slope_wien, slope_unc_wien, error_wien))"
      ],
      "execution_count": null,
      "outputs": []
    },
    {
      "cell_type": "markdown",
      "metadata": {
        "id": "RK1-pgHVSclD"
      },
      "source": [
        "# Distance dependence of intensity"
      ]
    },
    {
      "cell_type": "markdown",
      "metadata": {
        "id": "K79TuAN9SfaP"
      },
      "source": [
        "## Equipment and materials\n",
        "| Description | Manufacturer | Model | ID or SN |\n",
        "| ----------- | ------------ | ----- | -------- |\n",
        "| radiation sensor | PASCO | TD-8553 | 001369 |\n",
        "| Stefan-Boltzmann lamp | PASCO | TD-8555 | NAS 1464-062-06 |\n",
        "| Digital multimeters (2) | Fluke | 117 | 49640101SV, 49640102SV |\n",
        "| power supply (max. 13 V DC, min. 2 A) | Cenco | 79550 | P-176 |\n",
        "| photodiode detector | Thorlabs | PDA36A | N/A |\n",
        "| long-pass filter | Thorlabs | FGL610 | N/A |\n",
        "| meter stick | N/A | N/A | N/A |"
      ]
    },
    {
      "cell_type": "code",
      "metadata": {
        "id": "q43B_mmiYK9N"
      },
      "source": [
        "df_dist = pd.read_table('inverse_square_data.tsv')"
      ],
      "execution_count": null,
      "outputs": []
    },
    {
      "cell_type": "code",
      "metadata": {
        "id": "HdCTS4EjYMEh"
      },
      "source": [
        "def I(x, x0, n, a):\n",
        "  return a / (x - x0)**n"
      ],
      "execution_count": null,
      "outputs": []
    },
    {
      "cell_type": "code",
      "metadata": {
        "id": "ESsQ1Eu8Se6u"
      },
      "source": [
        "df_dist = pd.read_table('inverse_square_data.tsv')\n",
        "[param, cov] = curve_fit(I, df_dist['x (m)'], df_dist['I (W/m^2)'])\n",
        "x0 = param[0]\n",
        "n = param[1]\n",
        "a = param[2]\n",
        "print(\"The values of n and x0 were determined to be {:.1f} and {:.2e} m, respectively.\" . format(n, x0))"
      ],
      "execution_count": null,
      "outputs": []
    },
    {
      "cell_type": "code",
      "metadata": {
        "id": "7IYi89FzY-AF"
      },
      "source": [
        "fig_dist, ax_dist = plt.subplots()\n",
        "ax_dist.plot(df_dist['x (m)'], df_dist['I (W/m^2)'], '.')\n",
        "ax_dist.plot(df_dist['x (m)'], I(df_dist['x (m)'], x0, n, a))\n",
        "ax_dist.set_xlabel('$x$ (m)')\n",
        "ax_dist.set_ylabel('$I (\\mathrm{W} / \\ / \\mathrm{m}^2$');"
      ],
      "execution_count": null,
      "outputs": []
    }
  ]
}